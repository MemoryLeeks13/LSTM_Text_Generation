{
  "nbformat": 4,
  "nbformat_minor": 0,
  "metadata": {
    "colab": {
      "provenance": [],
      "gpuType": "A100",
      "machine_shape": "hm",
      "mount_file_id": "1BYOB2iSDleGe8ELSUCxd6QC1BdOYjCI8",
      "authorship_tag": "ABX9TyMaETlzB/qpCq6LtTDtvUIv",
      "include_colab_link": true
    },
    "kernelspec": {
      "name": "python3",
      "display_name": "Python 3"
    },
    "language_info": {
      "name": "python"
    },
    "accelerator": "GPU"
  },
  "cells": [
    {
      "cell_type": "markdown",
      "metadata": {
        "id": "view-in-github",
        "colab_type": "text"
      },
      "source": [
        "<a href=\"https://colab.research.google.com/github/MemoryLeeks13/LSTM_Text_Generation/blob/main/Assignment4_Piccione_John.ipynb\" target=\"_parent\"><img src=\"https://colab.research.google.com/assets/colab-badge.svg\" alt=\"Open In Colab\"/></a>"
      ]
    },
    {
      "cell_type": "markdown",
      "source": [
        "For this assignment, I chose Shakespeare and song lyrics as my datasets. Two very different domains. I got both of these datasets from Kaggle.\n",
        "\n",
        "Shakespeare: https://www.kaggle.com/datasets/kingburrito666/shakespeare-plays\n",
        "\n",
        "Song lyrics: https://www.kaggle.com/datasets/deepshah16/song-lyrics-dataset"
      ],
      "metadata": {
        "id": "f277Xn_KbTIq"
      }
    },
    {
      "cell_type": "code",
      "execution_count": null,
      "metadata": {
        "colab": {
          "base_uri": "https://localhost:8080/"
        },
        "id": "rXfYrejtSWPP",
        "outputId": "a97b3fba-811b-4cb9-ce05-288c473dcfd1"
      },
      "outputs": [
        {
          "output_type": "stream",
          "name": "stdout",
          "text": [
            "Found 21 CSV files.\n",
            "Index(['Unnamed: 0', 'Artist', 'Title', 'Album', 'Year', 'Date', 'Lyric'], dtype='object')\n"
          ]
        }
      ],
      "source": [
        "# Load the lyrics dataset and get some useful information about it\n",
        "import os\n",
        "import pandas as pd\n",
        "import re\n",
        "import numpy as np\n",
        "from tensorflow.keras.models import Sequential\n",
        "from tensorflow.keras.layers import Dense\n",
        "from tensorflow.keras.layers import LSTM\n",
        "from tensorflow.keras.layers import Input\n",
        "import tensorflow as tf\n",
        "import logging\n",
        "tf.get_logger().setLevel(logging.ERROR)\n",
        "\n",
        "EPOCHS = 20\n",
        "BATCH_SIZE = 128\n",
        "WINDOW_LENGTH = 40\n",
        "WINDOW_STEP = 3\n",
        "\n",
        "lyrics_dir = '/content/drive/MyDrive/song_lyrics'\n",
        "all_lyrics = []\n",
        "\n",
        "files = [f for f in os.listdir(lyrics_dir) if f.endswith('.csv')]\n",
        "print(f\"Found {len(files)} CSV files.\")\n",
        "\n",
        "sample_file = os.path.join(lyrics_dir, files[0])\n",
        "df = pd.read_csv(sample_file)\n",
        "print(df.columns)\n",
        "\n",
        "for filename in os.listdir(lyrics_dir):\n",
        "    if filename.endswith('.csv'):\n",
        "        df = pd.read_csv(os.path.join(lyrics_dir, filename))\n",
        "        if 'Lyric' in df.columns:\n",
        "            for lyric in df['Lyric'].dropna():\n",
        "                all_lyrics.append(lyric)"
      ]
    },
    {
      "cell_type": "code",
      "source": [
        "# Preprocess the lyrics dataset\n",
        "def clean_lyric(text):\n",
        "    text = text.lower()\n",
        "    text = re.sub(r'\\[.*?\\]', '', text)\n",
        "    text = re.sub(r'[^a-z\\s]', '', text)\n",
        "    text = re.sub(r'\\s+', ' ', text)\n",
        "    return text.strip()\n",
        "\n",
        "lyrics_clean = [\"[LYR] \" + clean_lyric(lyric) for lyric in all_lyrics]"
      ],
      "metadata": {
        "id": "wJoNYHYkZllX"
      },
      "execution_count": null,
      "outputs": []
    },
    {
      "cell_type": "markdown",
      "source": [
        "Now let's load and preprocess the Shakespeare dataset"
      ],
      "metadata": {
        "id": "OrL_xoDXaV0P"
      }
    },
    {
      "cell_type": "code",
      "source": [
        "shakespeare_df = pd.read_csv(\"/content/drive/MyDrive/Shakespeare_data.csv\")\n",
        "\n",
        "print(shakespeare_df.columns)\n",
        "\n",
        "lines = shakespeare_df['PlayerLine'].dropna().tolist()\n",
        "\n",
        "def clean_shakespeare_line(line):\n",
        "    line = line.lower()\n",
        "    line = re.sub(r'\\[.*?\\]', '', line)\n",
        "    line = re.sub(r'[^a-z\\s]', '', line)\n",
        "    line = re.sub(r'\\s+', ' ', line)\n",
        "    return line.strip()\n",
        "\n",
        "\n",
        "shakespeare_clean = [\"[SHK] \" + clean_shakespeare_line(line) for line in lines]"
      ],
      "metadata": {
        "colab": {
          "base_uri": "https://localhost:8080/"
        },
        "id": "GMvYIgwgaUoU",
        "outputId": "8ce3c188-39e5-4c0f-cea4-854d0d6a24c0"
      },
      "execution_count": null,
      "outputs": [
        {
          "output_type": "stream",
          "name": "stdout",
          "text": [
            "Index(['Dataline', 'Play', 'PlayerLinenumber', 'ActSceneLine', 'Player',\n",
            "       'PlayerLine'],\n",
            "      dtype='object')\n"
          ]
        }
      ]
    },
    {
      "cell_type": "markdown",
      "source": [
        "Now lets merge the two datasets"
      ],
      "metadata": {
        "id": "-bLVNKTtbGKq"
      }
    },
    {
      "cell_type": "code",
      "source": [
        "combined_text = \" \".join(shakespeare_clean + lyrics_clean)\n",
        "print(f\"Total characters: {len(combined_text):,}\")\n",
        "\n",
        "\n",
        "# Save to Drive\n",
        "drive_path = \"/content/drive/MyDrive/combined_text_dataset.txt\"\n",
        "with open(drive_path, \"w\", encoding=\"utf-8\") as f:\n",
        "    f.write(combined_text)\n",
        "\n",
        "print(f\"Saved to Google Drive: {drive_path}\")\n"
      ],
      "metadata": {
        "colab": {
          "base_uri": "https://localhost:8080/"
        },
        "id": "-zMFumH8bJ0W",
        "outputId": "93449c72-55da-4e0d-d214-7a268a08fe74"
      },
      "execution_count": null,
      "outputs": [
        {
          "output_type": "stream",
          "name": "stdout",
          "text": [
            "Total characters: 15,509,153\n",
            "Saved to Google Drive: /content/drive/MyDrive/combined_text_dataset.txt\n"
          ]
        }
      ]
    },
    {
      "cell_type": "markdown",
      "source": [
        "We have over 15.5 million total characters, let's see how each dataset is represented."
      ],
      "metadata": {
        "id": "peH3Z1yUcj4x"
      }
    },
    {
      "cell_type": "code",
      "source": [
        "shakespeare_chars = sum(len(line) for line in shakespeare_clean)\n",
        "lyrics_chars = sum(len(line) for line in lyrics_clean)\n",
        "\n",
        "print(f\"Shakespeare total characters: {shakespeare_chars:,}\")\n",
        "print(f\"Lyrics total characters:      {lyrics_chars:,}\")"
      ],
      "metadata": {
        "colab": {
          "base_uri": "https://localhost:8080/"
        },
        "id": "fDxd0aWUctMh",
        "outputId": "cae23e67-816a-4e84-cf53-6967bf4f0b70"
      },
      "execution_count": null,
      "outputs": [
        {
          "output_type": "stream",
          "name": "stdout",
          "text": [
            "Shakespeare total characters: 4,715,383\n",
            "Lyrics total characters:      10,676,394\n"
          ]
        }
      ]
    },
    {
      "cell_type": "code",
      "source": [
        "import random\n",
        "\n",
        "print(\"Shakespeare Samples:\\n\")\n",
        "for _ in range(5):\n",
        "    print(random.choice(shakespeare_clean))\n",
        "\n",
        "print(\"\\nLyrics Samples:\\n\")\n",
        "for _ in range(5):\n",
        "    print(random.choice(lyrics_clean))"
      ],
      "metadata": {
        "colab": {
          "base_uri": "https://localhost:8080/"
        },
        "id": "ROfUaKO0c_Bj",
        "outputId": "0e8f6e59-5826-4790-f9e8-ec86f2b3a5d5"
      },
      "execution_count": null,
      "outputs": [
        {
          "output_type": "stream",
          "name": "stdout",
          "text": [
            "Shakespeare Samples:\n",
            "\n",
            "[SHK] lovers to bed tis almost fairy time\n",
            "[SHK] afraid he would prove the better counterfeit\n",
            "[SHK] ay by my troth the case may be amended\n",
            "[SHK] to lingering sufferance answer me tomorrow\n",
            "[SHK] majesty and your greatuncle edward the plack\n",
            "\n",
            "Lyrics Samples:\n",
            "\n",
            "[LYR] i i cant lie im scared to open my eyes cause what if i find nothing at all nothing at all what is the point of my lips if they dont make noise oh what is the point of doing nothing at all watching it fall pre the flicker burning you know the time is running running out only i see oh the diamonds diamonds breaking down i wont stay quiet i wont stay quiet cause staying silents the same as dying i wont stay quiet the flickers burning now this is not a this is not a swan swan song this is not a this is not a swan swan song we just gotta we just gotta hold on tonight this is not a this is not a swan song swan song swan dive yeah its a new life real fantasy wishing it was makebelieve oh what is the reason of doing nothing at all watching it fall pre the flicker burning you know the time is running running out only i see oh the diamonds diamonds breaking down i wont stay quiet i wont stay quiet cause staying silents the same as dying i wont stay quiet the flickers burning now this is not a this is not a swan swan song this is not a this is not a swan swan song we just gotta we just gotta hold on tonight this is not a this is not a swan song swan song swan dive yeah its a new life tread heavily around me tread heavily around me this is not a this is not a swan swan song this is not a this is not a swan swan song we just gotta we just gotta hold on tonight this is not a this is not a swan song swan song swan dive yeah its a new life its a new life\n",
            "[LYR] what did you think id say to that does a scorpion sting when fighting back they strike to kill and you know i will you know i will what do you sing on your drive home do you see my face in the neighbors lawn does she smile or does she mouth fuck you forever pre every time you call me crazy i get more crazy what about that and when you say i seem angry i get more angry and theres nothing like a mad woman what a shame she went mad no one likes a mad woman you made her like that and youll poke that bear til her claws come out and you find something to wrap your noose around and theres nothing like a mad woman now i breathe flames each time i talk my cannons all firin at your yacht they say move on but you know i wont and women like hunting witches too doing your dirtiest work for you its obvious that wanting me dead has really brought you two together pre every time you call me crazy i get more crazy what about that and when you say i seem angry i get more angry and theres nothing like a mad woman what a shame she went mad no one likes a mad woman you made her like that and youll poke that bear til her claws come out and you find something to wrap your noose around and theres nothing like a mad woman im taking my time taking my time cause you took everything from me watching you climb watching you climb over people like me the master of spin has a couple side flings good wives always know she should be mad should be scathing like me but no one likes a mad woman what a shame she went mad you made her like that\n",
            "[LYR] you shouldve been there shouldve burst through the door with that baby im right here smile and it wouldve felt like a million little shining stars had just aligned and i wouldve been so happy christmas lights glisten ive got my eye on the door just waiting for you to walk in but the time is ticking people ask me how ive been as i comb back through my memory how you said youd be here you said youd be here and it was like slow motion standing there in my party dress in red lipstick with no one to impress and theyre all laughing as im looking around the room but there was one thing missing and that was the moment i knew and the hours pass by now i just wanna be alone but your close friends always seem to know when theres something really wrong so they follow me down the hall and there in the bathroom i try not to fall apart and the sinking feeling starts as i say hopelessly he said hed be here and it was like slow motion standing there in my party dress in red lipstick with no one to impress and theyre all laughing and asking me about you but there was one thing missing missing and that was the moment i knew what do you say when tears are streaming down your face in front of everyone you know and what do you do when the one who means the most to you is the one who didnt show breakdown you shouldve been here and i wouldve been so happy and it was like slow motion standing there in my party dress in red lipstick with no one to impress and theyre all standing around me singing happy birthday to you but there was one thing missing and that was the moment i knew ohohohohohohoh i knew ohohohohohohoh you called me later and said im sorry i didnt make it and i said im sorry too and that was the moment i knew\n",
            "[LYR] come mr dj song pon de replay come mr dj wont you turn the music up all the gyal pon the dancefloor wantin some more what come mr dj wont you turn the music up come mr dj song pon de replay come mr dj wont you turn the music up all the gyal pon the dancefloor wantin some more what come mr dj wont you turn the music up it goes one by one even two by two everybody on the floor let me show you how we do lets go dip it low then you bring it up slow wind it up one time wind it back once more pre come run run run run everybody move run lemme see you move and rock it til the groove done shake it til the moon becomes the sun sun everybody in the club give me a run run if you ready to move say it yeah one time for your mind say it yeah yeah well im ready for ya come let me show ya you want to groove imma show you how to move come come mr dj song pon de replay come mr dj wont you turn the music up all the gyal pon the dancefloor wantin some more what come mr dj wont you turn the music up come mr dj song pon de replay come mr dj wont you turn the music up all the gyal pon the dancefloor wantin some more what come mr dj wont you turn the music up post hey mister please mr dj tell me if you hear me turn the music up hey mister hey mister please mr dj tell me if you hear me turn the music up it goes one by one even two by two everybody in the club gon be rockin when im through let the bass from the speakers run through ya sneakers move both ya feet and run to the beat pre come run run run run everybody move run lemme see you move and rock it til the groove done shake it til the moon becomes the sun sun everybody in the club give me a run run if you ready to move say it yeah one time for your mind say it yeah yeah well im ready for ya come let me show ya you want to groove imma show you how to move come mr dj song pon de replay come mr dj wont you turn the music up all the gyal pon the dancefloor wantin some more what come mr dj wont you turn the music up okay everybody get down if you feel me put your hands up to the ceiling everybody get down if you feel me come and put your hands up to the ceiling everybody get down if you feel me put your hands up to the ceiling everybody get down if you feel me come and put your hands up to the ceiling come mr dj song pon de replay come mr dj wont you turn the music up all the gyal pon the dancefloor wantin some more what come mr dj wont you turn the music up\n",
            "[LYR] spoken hey babe its me umm i just wanted to call and tell you that i love you so so so so much i just wanted to let you know that you are my princess you are worthy of all of the love in the world you are the love of my life nows all we got and time cant be bought i know it inside my heart forever will forever be ours even if we try to forget love will remember you said you loved me i said i loved you back what happened to that what happened to that all your promises and all them plans we had what happened to that what happened to that pre boom gone yeah we move on even if we try to forget love will remember you and love will remember me i know it inside my heart forever will forever be ours even if we try to forget love will remember love will remember love will remember love will remember love will remember the trips we dreamed of taking the tacks left on the map what happened to that what happened to that when all you had was nothing and all we did was laugh what happened what happened what happened to that pre boom gone yeah we move on even if we try to forget love will remember you and love will remember me i know it inside my heart forever will forever be ours even if we try to forget love will remember love will remember love will remember love will remember love will remember love will remember love will remember love will remember love will remember break down the walls let heaven in somewhere in forever well dance again we used to be inseparable i used to think that i was irreplaceable we lit the whole world up before we blew it up i still dont know just how we screwed it up forever forever forever love will remember you and love will remember me i know it inside my heart forever will forever be ours even if we try to forget love will remember love will remember love will remember love will remember love will remember love will remember love will remember love will remember love will remember\n"
          ]
        }
      ]
    },
    {
      "cell_type": "code",
      "source": [
        "# Encode characters as indices.\n",
        "unique_chars = list(set(combined_text))\n",
        "char_to_indx = dict((ch, index) for index,\n",
        "                     ch in enumerate(unique_chars))\n",
        "indx_to_char = dict((index, ch) for index,\n",
        "                     ch in enumerate(unique_chars))\n",
        "\n",
        "print(char_to_indx)\n",
        "print(indx_to_char)"
      ],
      "metadata": {
        "colab": {
          "base_uri": "https://localhost:8080/"
        },
        "id": "fg3PlefDce0z",
        "outputId": "f69bbcab-037b-49d2-e995-9a1aadc709a1"
      },
      "execution_count": null,
      "outputs": [
        {
          "output_type": "stream",
          "name": "stdout",
          "text": [
            "{'e': 0, 'c': 1, 'v': 2, 'j': 3, 'a': 4, 'n': 5, 'Y': 6, 'y': 7, 'w': 8, 's': 9, 'f': 10, 'g': 11, 't': 12, 'r': 13, 'i': 14, 'x': 15, 'H': 16, 'u': 17, 'b': 18, 'k': 19, '[': 20, 'L': 21, ' ': 22, 'q': 23, 'd': 24, 'm': 25, 'z': 26, 'h': 27, 'S': 28, 'p': 29, 'l': 30, 'o': 31, 'K': 32, 'R': 33, ']': 34}\n",
            "{0: 'e', 1: 'c', 2: 'v', 3: 'j', 4: 'a', 5: 'n', 6: 'Y', 7: 'y', 8: 'w', 9: 's', 10: 'f', 11: 'g', 12: 't', 13: 'r', 14: 'i', 15: 'x', 16: 'H', 17: 'u', 18: 'b', 19: 'k', 20: '[', 21: 'L', 22: ' ', 23: 'q', 24: 'd', 25: 'm', 26: 'z', 27: 'h', 28: 'S', 29: 'p', 30: 'l', 31: 'o', 32: 'K', 33: 'R', 34: ']'}\n"
          ]
        }
      ]
    },
    {
      "cell_type": "code",
      "source": [
        "encoding_width = len(char_to_indx)\n",
        "print(f\"Encoding width: {encoding_width}\")"
      ],
      "metadata": {
        "colab": {
          "base_uri": "https://localhost:8080/"
        },
        "id": "94hXEYbRpNxu",
        "outputId": "df42f696-4719-4473-c4eb-228b236106c5"
      },
      "execution_count": null,
      "outputs": [
        {
          "output_type": "stream",
          "name": "stdout",
          "text": [
            "Encoding width: 35\n"
          ]
        }
      ]
    },
    {
      "cell_type": "code",
      "source": [
        "# Create training examples.\n",
        "targets = []\n",
        "fragments = []\n",
        "for i in range(0, len(combined_text) - WINDOW_LENGTH, WINDOW_STEP):\n",
        "    fragment = combined_text[i:i+WINDOW_LENGTH+1]\n",
        "    if all(c in char_to_indx for c in fragment):\n",
        "        fragments.append(fragment)\n",
        "\n",
        "# Split the fragments manually\n",
        "val_split = int(0.05 * len(fragments))\n",
        "train_fragments = fragments[:-val_split]\n",
        "val_fragments = fragments[-val_split:]\n",
        "\n",
        "def make_dataset(fragments_list):\n",
        "    return tf.data.Dataset.from_generator(\n",
        "        lambda: ((encode_fragment(seq[:-1], char_to_indx), char_to_indx[seq[-1]])\n",
        "                 for seq in fragments_list),\n",
        "        output_signature=(\n",
        "            tf.TensorSpec(shape=(WINDOW_LENGTH,), dtype=tf.int32),\n",
        "            tf.TensorSpec(shape=(), dtype=tf.int32)\n",
        "        )\n",
        "    ).shuffle(10000).batch(BATCH_SIZE).prefetch(tf.data.AUTOTUNE)\n",
        "\n",
        "train_dataset = make_dataset(train_fragments)\n",
        "val_dataset = make_dataset(val_fragments)"
      ],
      "metadata": {
        "id": "a_l2_di6cy6d"
      },
      "execution_count": null,
      "outputs": []
    },
    {
      "cell_type": "code",
      "source": [
        "print(\"Number of fragments:\", len(fragments))\n",
        "print(\"Example fragment:\", fragments[0] if fragments else \"EMPTY\")"
      ],
      "metadata": {
        "colab": {
          "base_uri": "https://localhost:8080/"
        },
        "id": "qrJzPVDzh7qJ",
        "outputId": "e9897ee1-fa8f-4112-a31e-aee76913f297"
      },
      "execution_count": null,
      "outputs": [
        {
          "output_type": "stream",
          "name": "stdout",
          "text": [
            "Number of fragments: 5169705\n",
            "Example fragment: [SHK] act i [SHK] scene i london the pala\n"
          ]
        }
      ]
    },
    {
      "cell_type": "code",
      "source": [
        "import tensorflow as tf\n",
        "\n",
        "def encode_fragment(seq, char_to_index):\n",
        "    return [char_to_indx[char] for char in seq]\n",
        "\n",
        "# Create a tf.data.Dataset which is much more efficient\n",
        "# I kept running out of memory in colab when using np arrays\n",
        "dataset = tf.data.Dataset.from_generator(\n",
        "    lambda: ((encode_fragment(seq[:-1], char_to_indx), char_to_indx[seq[-1]])\n",
        "             for seq in fragments),\n",
        "    output_signature=(\n",
        "        tf.TensorSpec(shape=(WINDOW_LENGTH,), dtype=tf.int32),\n",
        "        tf.TensorSpec(shape=(), dtype=tf.int32)\n",
        "    )\n",
        ").shuffle(buffer_size=10000).batch(BATCH_SIZE).prefetch(tf.data.AUTOTUNE)"
      ],
      "metadata": {
        "id": "Pod_-uPKndGQ"
      },
      "execution_count": null,
      "outputs": []
    },
    {
      "cell_type": "code",
      "source": [
        "from tensorflow.keras.models import Sequential\n",
        "from tensorflow.keras.layers import Embedding, LSTM, Dense, Dropout\n",
        "\n",
        "vocab_size = encoding_width\n",
        "\n",
        "model = Sequential()\n",
        "model.add(Embedding(input_dim=vocab_size, output_dim=32, input_length=WINDOW_LENGTH))\n",
        "model.add(LSTM(128, dropout=0.2))\n",
        "model.add(Dense(vocab_size, activation='softmax'))\n",
        "model.compile(loss='sparse_categorical_crossentropy', optimizer='adam')\n",
        "\n",
        "model.build(input_shape=(None, WINDOW_LENGTH))\n",
        "model.summary()"
      ],
      "metadata": {
        "colab": {
          "base_uri": "https://localhost:8080/",
          "height": 287
        },
        "id": "evoAu5POdQri",
        "outputId": "7e00bd44-c99e-4618-be0b-f1b3f3033d0b"
      },
      "execution_count": null,
      "outputs": [
        {
          "output_type": "stream",
          "name": "stderr",
          "text": [
            "/usr/local/lib/python3.11/dist-packages/keras/src/layers/core/embedding.py:90: UserWarning: Argument `input_length` is deprecated. Just remove it.\n",
            "  warnings.warn(\n"
          ]
        },
        {
          "output_type": "display_data",
          "data": {
            "text/plain": [
              "\u001b[1mModel: \"sequential\"\u001b[0m\n"
            ],
            "text/html": [
              "<pre style=\"white-space:pre;overflow-x:auto;line-height:normal;font-family:Menlo,'DejaVu Sans Mono',consolas,'Courier New',monospace\"><span style=\"font-weight: bold\">Model: \"sequential\"</span>\n",
              "</pre>\n"
            ]
          },
          "metadata": {}
        },
        {
          "output_type": "display_data",
          "data": {
            "text/plain": [
              "┏━━━━━━━━━━━━━━━━━━━━━━━━━━━━━━━━━┳━━━━━━━━━━━━━━━━━━━━━━━━┳━━━━━━━━━━━━━━━┓\n",
              "┃\u001b[1m \u001b[0m\u001b[1mLayer (type)                   \u001b[0m\u001b[1m \u001b[0m┃\u001b[1m \u001b[0m\u001b[1mOutput Shape          \u001b[0m\u001b[1m \u001b[0m┃\u001b[1m \u001b[0m\u001b[1m      Param #\u001b[0m\u001b[1m \u001b[0m┃\n",
              "┡━━━━━━━━━━━━━━━━━━━━━━━━━━━━━━━━━╇━━━━━━━━━━━━━━━━━━━━━━━━╇━━━━━━━━━━━━━━━┩\n",
              "│ embedding (\u001b[38;5;33mEmbedding\u001b[0m)           │ (\u001b[38;5;45mNone\u001b[0m, \u001b[38;5;34m40\u001b[0m, \u001b[38;5;34m32\u001b[0m)         │         \u001b[38;5;34m1,120\u001b[0m │\n",
              "├─────────────────────────────────┼────────────────────────┼───────────────┤\n",
              "│ lstm (\u001b[38;5;33mLSTM\u001b[0m)                     │ (\u001b[38;5;45mNone\u001b[0m, \u001b[38;5;34m128\u001b[0m)            │        \u001b[38;5;34m82,432\u001b[0m │\n",
              "├─────────────────────────────────┼────────────────────────┼───────────────┤\n",
              "│ dense (\u001b[38;5;33mDense\u001b[0m)                   │ (\u001b[38;5;45mNone\u001b[0m, \u001b[38;5;34m35\u001b[0m)             │         \u001b[38;5;34m4,515\u001b[0m │\n",
              "└─────────────────────────────────┴────────────────────────┴───────────────┘\n"
            ],
            "text/html": [
              "<pre style=\"white-space:pre;overflow-x:auto;line-height:normal;font-family:Menlo,'DejaVu Sans Mono',consolas,'Courier New',monospace\">┏━━━━━━━━━━━━━━━━━━━━━━━━━━━━━━━━━┳━━━━━━━━━━━━━━━━━━━━━━━━┳━━━━━━━━━━━━━━━┓\n",
              "┃<span style=\"font-weight: bold\"> Layer (type)                    </span>┃<span style=\"font-weight: bold\"> Output Shape           </span>┃<span style=\"font-weight: bold\">       Param # </span>┃\n",
              "┡━━━━━━━━━━━━━━━━━━━━━━━━━━━━━━━━━╇━━━━━━━━━━━━━━━━━━━━━━━━╇━━━━━━━━━━━━━━━┩\n",
              "│ embedding (<span style=\"color: #0087ff; text-decoration-color: #0087ff\">Embedding</span>)           │ (<span style=\"color: #00d7ff; text-decoration-color: #00d7ff\">None</span>, <span style=\"color: #00af00; text-decoration-color: #00af00\">40</span>, <span style=\"color: #00af00; text-decoration-color: #00af00\">32</span>)         │         <span style=\"color: #00af00; text-decoration-color: #00af00\">1,120</span> │\n",
              "├─────────────────────────────────┼────────────────────────┼───────────────┤\n",
              "│ lstm (<span style=\"color: #0087ff; text-decoration-color: #0087ff\">LSTM</span>)                     │ (<span style=\"color: #00d7ff; text-decoration-color: #00d7ff\">None</span>, <span style=\"color: #00af00; text-decoration-color: #00af00\">128</span>)            │        <span style=\"color: #00af00; text-decoration-color: #00af00\">82,432</span> │\n",
              "├─────────────────────────────────┼────────────────────────┼───────────────┤\n",
              "│ dense (<span style=\"color: #0087ff; text-decoration-color: #0087ff\">Dense</span>)                   │ (<span style=\"color: #00d7ff; text-decoration-color: #00d7ff\">None</span>, <span style=\"color: #00af00; text-decoration-color: #00af00\">35</span>)             │         <span style=\"color: #00af00; text-decoration-color: #00af00\">4,515</span> │\n",
              "└─────────────────────────────────┴────────────────────────┴───────────────┘\n",
              "</pre>\n"
            ]
          },
          "metadata": {}
        },
        {
          "output_type": "display_data",
          "data": {
            "text/plain": [
              "\u001b[1m Total params: \u001b[0m\u001b[38;5;34m88,067\u001b[0m (344.01 KB)\n"
            ],
            "text/html": [
              "<pre style=\"white-space:pre;overflow-x:auto;line-height:normal;font-family:Menlo,'DejaVu Sans Mono',consolas,'Courier New',monospace\"><span style=\"font-weight: bold\"> Total params: </span><span style=\"color: #00af00; text-decoration-color: #00af00\">88,067</span> (344.01 KB)\n",
              "</pre>\n"
            ]
          },
          "metadata": {}
        },
        {
          "output_type": "display_data",
          "data": {
            "text/plain": [
              "\u001b[1m Trainable params: \u001b[0m\u001b[38;5;34m88,067\u001b[0m (344.01 KB)\n"
            ],
            "text/html": [
              "<pre style=\"white-space:pre;overflow-x:auto;line-height:normal;font-family:Menlo,'DejaVu Sans Mono',consolas,'Courier New',monospace\"><span style=\"font-weight: bold\"> Trainable params: </span><span style=\"color: #00af00; text-decoration-color: #00af00\">88,067</span> (344.01 KB)\n",
              "</pre>\n"
            ]
          },
          "metadata": {}
        },
        {
          "output_type": "display_data",
          "data": {
            "text/plain": [
              "\u001b[1m Non-trainable params: \u001b[0m\u001b[38;5;34m0\u001b[0m (0.00 B)\n"
            ],
            "text/html": [
              "<pre style=\"white-space:pre;overflow-x:auto;line-height:normal;font-family:Menlo,'DejaVu Sans Mono',consolas,'Courier New',monospace\"><span style=\"font-weight: bold\"> Non-trainable params: </span><span style=\"color: #00af00; text-decoration-color: #00af00\">0</span> (0.00 B)\n",
              "</pre>\n"
            ]
          },
          "metadata": {}
        }
      ]
    },
    {
      "cell_type": "code",
      "source": [
        "# This is the entire dataset, but I cannot train on the entire thing, it\n",
        "# takes far too long. 1-2 hours per epoch\n",
        "# NOTE: Figured out it was because I was running verbose=2, removed it and it\n",
        "# runs faster, but still takes too long for full dataset\n",
        "# history = model.fit(train_dataset, validation_data=val_dataset, epochs=EPOCHS)\n",
        "\n",
        "# So instead I created a subset of the dataset to train on\n",
        "tiny_train = train_fragments[:500000]\n",
        "tiny_val = val_fragments[:100000]\n",
        "\n",
        "tiny_train_dataset = make_dataset(tiny_train)\n",
        "tiny_val_dataset = make_dataset(tiny_val)\n",
        "\n",
        "history = model.fit(tiny_train_dataset, validation_data=tiny_val_dataset, epochs=EPOCHS)"
      ],
      "metadata": {
        "colab": {
          "base_uri": "https://localhost:8080/"
        },
        "id": "nkg5kU8RqwB1",
        "outputId": "a287f2cc-d92e-4aad-8123-b3674ec95435"
      },
      "execution_count": null,
      "outputs": [
        {
          "output_type": "stream",
          "name": "stdout",
          "text": [
            "Epoch 1/20\n",
            "   3905/Unknown \u001b[1m129s\u001b[0m 32ms/step - loss: 2.1170"
          ]
        },
        {
          "output_type": "stream",
          "name": "stderr",
          "text": [
            "/usr/local/lib/python3.11/dist-packages/keras/src/trainers/epoch_iterator.py:151: UserWarning: Your input ran out of data; interrupting training. Make sure that your dataset or generator can generate at least `steps_per_epoch * epochs` batches. You may need to use the `.repeat()` function when building your dataset.\n",
            "  self._interrupted_warning()\n"
          ]
        },
        {
          "output_type": "stream",
          "name": "stdout",
          "text": [
            "\b\b\b\b\b\b\b\b\b\b\b\b\b\b\b\b\b\b\b\b\b\b\b\b\b\b\b\b\b\b\b\b\b\b\b\b\b\b\b\b\b\b\b\b\b\r\u001b[1m3907/3907\u001b[0m \u001b[32m━━━━━━━━━━━━━━━━━━━━\u001b[0m\u001b[37m\u001b[0m \u001b[1m153s\u001b[0m 38ms/step - loss: 2.1168 - val_loss: 2.0736\n",
            "Epoch 2/20\n",
            "\u001b[1m3907/3907\u001b[0m \u001b[32m━━━━━━━━━━━━━━━━━━━━\u001b[0m\u001b[37m\u001b[0m \u001b[1m148s\u001b[0m 37ms/step - loss: 1.6266 - val_loss: 2.0313\n",
            "Epoch 3/20\n",
            "\u001b[1m3907/3907\u001b[0m \u001b[32m━━━━━━━━━━━━━━━━━━━━\u001b[0m\u001b[37m\u001b[0m \u001b[1m149s\u001b[0m 37ms/step - loss: 1.5301 - val_loss: 2.0222\n",
            "Epoch 4/20\n",
            "\u001b[1m3907/3907\u001b[0m \u001b[32m━━━━━━━━━━━━━━━━━━━━\u001b[0m\u001b[37m\u001b[0m \u001b[1m148s\u001b[0m 37ms/step - loss: 1.4774 - val_loss: 1.9784\n",
            "Epoch 5/20\n",
            "\u001b[1m3907/3907\u001b[0m \u001b[32m━━━━━━━━━━━━━━━━━━━━\u001b[0m\u001b[37m\u001b[0m \u001b[1m149s\u001b[0m 38ms/step - loss: 1.4410 - val_loss: 2.0260\n",
            "Epoch 6/20\n",
            "\u001b[1m3907/3907\u001b[0m \u001b[32m━━━━━━━━━━━━━━━━━━━━\u001b[0m\u001b[37m\u001b[0m \u001b[1m149s\u001b[0m 38ms/step - loss: 1.4150 - val_loss: 1.9860\n",
            "Epoch 7/20\n",
            "\u001b[1m3907/3907\u001b[0m \u001b[32m━━━━━━━━━━━━━━━━━━━━\u001b[0m\u001b[37m\u001b[0m \u001b[1m150s\u001b[0m 38ms/step - loss: 1.3953 - val_loss: 2.0230\n",
            "Epoch 8/20\n",
            "\u001b[1m3907/3907\u001b[0m \u001b[32m━━━━━━━━━━━━━━━━━━━━\u001b[0m\u001b[37m\u001b[0m \u001b[1m149s\u001b[0m 38ms/step - loss: 1.3801 - val_loss: 1.9922\n",
            "Epoch 9/20\n",
            "\u001b[1m3907/3907\u001b[0m \u001b[32m━━━━━━━━━━━━━━━━━━━━\u001b[0m\u001b[37m\u001b[0m \u001b[1m149s\u001b[0m 37ms/step - loss: 1.3666 - val_loss: 1.9940\n",
            "Epoch 10/20\n",
            "\u001b[1m3907/3907\u001b[0m \u001b[32m━━━━━━━━━━━━━━━━━━━━\u001b[0m\u001b[37m\u001b[0m \u001b[1m149s\u001b[0m 37ms/step - loss: 1.3548 - val_loss: 1.9803\n",
            "Epoch 11/20\n",
            "\u001b[1m3907/3907\u001b[0m \u001b[32m━━━━━━━━━━━━━━━━━━━━\u001b[0m\u001b[37m\u001b[0m \u001b[1m149s\u001b[0m 38ms/step - loss: 1.3446 - val_loss: 1.9870\n",
            "Epoch 12/20\n",
            "\u001b[1m3907/3907\u001b[0m \u001b[32m━━━━━━━━━━━━━━━━━━━━\u001b[0m\u001b[37m\u001b[0m \u001b[1m149s\u001b[0m 37ms/step - loss: 1.3391 - val_loss: 1.9816\n",
            "Epoch 13/20\n",
            "\u001b[1m3907/3907\u001b[0m \u001b[32m━━━━━━━━━━━━━━━━━━━━\u001b[0m\u001b[37m\u001b[0m \u001b[1m149s\u001b[0m 37ms/step - loss: 1.3303 - val_loss: 1.9720\n",
            "Epoch 14/20\n",
            "\u001b[1m3907/3907\u001b[0m \u001b[32m━━━━━━━━━━━━━━━━━━━━\u001b[0m\u001b[37m\u001b[0m \u001b[1m149s\u001b[0m 37ms/step - loss: 1.3227 - val_loss: 1.9553\n",
            "Epoch 15/20\n",
            "\u001b[1m3907/3907\u001b[0m \u001b[32m━━━━━━━━━━━━━━━━━━━━\u001b[0m\u001b[37m\u001b[0m \u001b[1m148s\u001b[0m 37ms/step - loss: 1.3167 - val_loss: 1.9990\n",
            "Epoch 16/20\n",
            "\u001b[1m3907/3907\u001b[0m \u001b[32m━━━━━━━━━━━━━━━━━━━━\u001b[0m\u001b[37m\u001b[0m \u001b[1m149s\u001b[0m 37ms/step - loss: 1.3135 - val_loss: 1.9742\n",
            "Epoch 17/20\n",
            "\u001b[1m3907/3907\u001b[0m \u001b[32m━━━━━━━━━━━━━━━━━━━━\u001b[0m\u001b[37m\u001b[0m \u001b[1m149s\u001b[0m 38ms/step - loss: 1.3088 - val_loss: 1.9710\n",
            "Epoch 18/20\n",
            "\u001b[1m3907/3907\u001b[0m \u001b[32m━━━━━━━━━━━━━━━━━━━━\u001b[0m\u001b[37m\u001b[0m \u001b[1m149s\u001b[0m 38ms/step - loss: 1.3047 - val_loss: 1.9896\n",
            "Epoch 19/20\n",
            "\u001b[1m3907/3907\u001b[0m \u001b[32m━━━━━━━━━━━━━━━━━━━━\u001b[0m\u001b[37m\u001b[0m \u001b[1m149s\u001b[0m 37ms/step - loss: 1.3010 - val_loss: 1.9538\n",
            "Epoch 20/20\n",
            "\u001b[1m3907/3907\u001b[0m \u001b[32m━━━━━━━━━━━━━━━━━━━━\u001b[0m\u001b[37m\u001b[0m \u001b[1m150s\u001b[0m 38ms/step - loss: 1.2969 - val_loss: 1.9669\n"
          ]
        }
      ]
    },
    {
      "cell_type": "code",
      "source": [
        "# Save my model for later use if needed\n",
        "# model.save(\"/content/drive/MyDrive/style_lstm.keras\")"
      ],
      "metadata": {
        "id": "krjoVN7kbn8M"
      },
      "execution_count": null,
      "outputs": []
    },
    {
      "cell_type": "code",
      "source": [
        "# Reload my model if needed\n",
        "# from tensorflow.keras.models import load_model\n",
        "# model = load_model(\"/content/drive/MyDrive/style_lstm.keras\")"
      ],
      "metadata": {
        "id": "diT6SRWkb7Ac"
      },
      "execution_count": null,
      "outputs": []
    },
    {
      "cell_type": "code",
      "source": [
        "import matplotlib.pyplot as plt\n",
        "\n",
        "plt.plot(history.history['loss'], label='Training Loss')\n",
        "if 'val_loss' in history.history:\n",
        "    plt.plot(history.history['val_loss'], label='Validation Loss')\n",
        "plt.title(\"Loss Curve\")\n",
        "plt.xlabel(\"Epoch\")\n",
        "plt.ylabel(\"Loss\")\n",
        "plt.legend()\n",
        "plt.grid(True)\n",
        "plt.show()"
      ],
      "metadata": {
        "colab": {
          "base_uri": "https://localhost:8080/",
          "height": 472
        },
        "id": "66FJcazZACzX",
        "outputId": "5bce0355-ad15-4d48-8e2c-49fd224262ef"
      },
      "execution_count": null,
      "outputs": [
        {
          "output_type": "display_data",
          "data": {
            "text/plain": [
              "<Figure size 640x480 with 1 Axes>"
            ],
            "image/png": "[encoded data removed]"
          },
          "metadata": {}
        }
      ]
    },
    {
      "cell_type": "markdown",
      "source": [
        "Overall, not bad results. There appears to be some slight overfitting(maybe), but overall a nice smooth decresing training curve. This suggests that the model is learning patterns. I did find it interesting that the val_loss was the lowest on epoch 14 and 19. Maybe my dataset subset is still too small. I would have loved to train this on the entire dataset, just to see the results and compare it to these."
      ],
      "metadata": {
        "id": "8UZwIijFlHV_"
      }
    },
    {
      "cell_type": "code",
      "source": [
        "import numpy as np\n",
        "\n",
        "def beam_search_generate(\n",
        "    model,\n",
        "    seed_text,\n",
        "    char_to_indx,\n",
        "    indx_to_char,\n",
        "    window_length=50,\n",
        "    beam_width=5,\n",
        "    gen_length=200,\n",
        "    temperature=.5,\n",
        "    top_k=10,\n",
        "):\n",
        "    seed_encoded = [char_to_indx[c] for c in seed_text if c in char_to_indx]\n",
        "    beams = [(seed_encoded, 0.0)]\n",
        "\n",
        "    for _ in range(gen_length):\n",
        "        all_candidates = []\n",
        "\n",
        "        for seq, score in beams:\n",
        "            input_seq = seq[-window_length:]\n",
        "            padded_seq = [0] * (window_length - len(input_seq)) + input_seq\n",
        "            x = np.array([padded_seq])\n",
        "\n",
        "            preds = model.predict(x, verbose=0)[0]\n",
        "            preds = np.log(preds + 1e-8) / temperature\n",
        "            exp_preds = np.exp(preds)\n",
        "            probs = exp_preds / np.sum(exp_preds)\n",
        "\n",
        "            # Top-k sampling\n",
        "            top_indices = np.argpartition(probs, -top_k)[-top_k:]\n",
        "            top_probs = probs[top_indices]\n",
        "            top_probs /= np.sum(top_probs)\n",
        "            sampled_indices = np.random.choice(top_indices, size=beam_width, p=top_probs)\n",
        "\n",
        "            for i in sampled_indices:\n",
        "                new_seq = seq + [i]\n",
        "                new_score = (score + np.log(probs[i] + 1e-8)) / len(new_seq)\n",
        "                all_candidates.append((new_seq, new_score))\n",
        "\n",
        "        beams = sorted(all_candidates, key=lambda tup: tup[1], reverse=True)[:beam_width]\n",
        "\n",
        "    best_seq, _ = beams[0]\n",
        "    return ''.join(indx_to_char[i] for i in best_seq)"
      ],
      "metadata": {
        "id": "YHe83WQvnnZ_"
      },
      "execution_count": null,
      "outputs": []
    },
    {
      "cell_type": "code",
      "source": [
        "# Testing how we use a prompt with style tag\n",
        "\n",
        "print(\"Shakespeare Style:\")\n",
        "print(beam_search_generate(model, \"[SHK] to be or not\", char_to_indx, indx_to_char))\n",
        "\n",
        "print(\"\\nLyrics Style:\")\n",
        "print(beam_search_generate(model, \"[LYR] i got sunshine on\", char_to_indx, indx_to_char))"
      ],
      "metadata": {
        "colab": {
          "base_uri": "https://localhost:8080/"
        },
        "id": "TXlb0njSO-ps",
        "outputId": "a7ea46e4-edba-4053-e20b-3df9cd57e125"
      },
      "execution_count": null,
      "outputs": [
        {
          "output_type": "stream",
          "name": "stdout",
          "text": [
            "Shakespeare Style:\n",
            "[SHK] to be or not [SHK] the stay the seas [SHK] the seas [SHK] the stranger [SHK] and the world the strange [SHK] the stranger [SHK] and the promise [SHK] and the strange [SHK] the strange [SHK] the stranger [SHK] the\n",
            "\n",
            "Lyrics Style:\n",
            "[LYR] i got sunshine one [SHK] the stranger [SHK] and the stranger and the thing and the the strange [SHK] the staff the stranger [SHK] the stranger [SHK] the strange [SHK] and the stall [SHK] the strength and the strange a\n"
          ]
        }
      ]
    },
    {
      "cell_type": "code",
      "source": [
        "# Prompt 1\n",
        "prompt1 = \"to be or not\"\n",
        "print(\"Prompt:\", prompt1)\n",
        "\n",
        "print(\"\\nShakespeare Style:\")\n",
        "shk_output1 = beam_search_generate(model, \"[SHK] \" + prompt1, char_to_indx, indx_to_char)\n",
        "print(shk_output1)\n",
        "\n",
        "print(\"\\nLyrics Style:\")\n",
        "lyr_output1 = beam_search_generate(model, \"[LYR] \" + prompt1, char_to_indx, indx_to_char)\n",
        "print(lyr_output1)\n",
        "\n",
        "# Prompt 2\n",
        "prompt2 = \"i got sunshine\"\n",
        "print(\"\\n\\nPrompt:\", prompt2)\n",
        "\n",
        "print(\"\\nShakespeare Style:\")\n",
        "shk_output2 = beam_search_generate(model, \"[SHK] \" + prompt2, char_to_indx, indx_to_char)\n",
        "print(shk_output2)\n",
        "\n",
        "print(\"\\nLyrics Style:\")\n",
        "lyr_output2 = beam_search_generate(model, \"[LYR] \" + prompt2, char_to_indx, indx_to_char)\n",
        "print(lyr_output2)"
      ],
      "metadata": {
        "colab": {
          "base_uri": "https://localhost:8080/"
        },
        "id": "DJ6cdW-oO5ST",
        "outputId": "c0834b6d-8ac9-4b53-9e82-06958bfcc68b"
      },
      "execution_count": null,
      "outputs": [
        {
          "output_type": "stream",
          "name": "stdout",
          "text": [
            "Prompt: to be or not\n",
            "\n",
            "Shakespeare Style:\n",
            "[SHK] to be or not [SHK] the strange [SHK] the strange [SHK] and the strange [SHK] and the stay the thing and the thing and the then [SHK] the strength and the strange [SHK] and the thing and the more [SHK] the strange\n",
            "\n",
            "Lyrics Style:\n",
            "[LYR] to be or not [SHK] the stranger [SHK] and the stay the world [SHK] the stay the strange [SHK] and the stay the strength and the strange [SHK] and the news and the strange [SHK] and the that the seas [SHK] the str\n",
            "\n",
            "\n",
            "Prompt: i got sunshine\n",
            "\n",
            "Shakespeare Style:\n",
            "[SHK] i got sunshine [SHK] the strength and the strange [SHK] the stay the true [SHK] the stranger [SHK] and the stay the strange [SHK] the stranger [SHK] the some [SHK] and the strange [SHK] the strange [SHK] and the th\n",
            "\n",
            "Lyrics Style:\n",
            "[LYR] i got sunshine [SHK] the stranger [SHK] the thing and the stranger [SHK] the stood of the strange [SHK] and the strange [SHK] the strange [SHK] the stranger of the strength and the thing and the [SHK] the world the\n"
          ]
        }
      ]
    },
    {
      "cell_type": "markdown",
      "source": [
        "RESOURCES\n",
        "\n",
        "- https://huggingface.co/docs/transformers/v4.28.1/generation_strategies\n",
        "\n",
        "- https://huggingface.co/blog/mlabonne/decoding-strategies\n",
        "\n",
        "- https://huggingface.co/blog/how-to-generate\n",
        "\n",
        "- https://aman.ai/primers/ai/token-sampling/\n",
        "\n",
        "- https://towardsdatascience.com/temperature-scaling-and-beam-search-text-generation-in-llms-for-the-ml-adjacent-21212cc5dddb/#3289"
      ],
      "metadata": {
        "id": "VLwZ31H6ekDM"
      }
    }
  ]
}